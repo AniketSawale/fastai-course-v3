{
  "nbformat": 4,
  "nbformat_minor": 0,
  "metadata": {
    "colab": {
      "name": "fastai-lesson4-collab.ipynb",
      "provenance": [],
      "collapsed_sections": [],
      "authorship_tag": "ABX9TyOsxmJkVa5yonFOnKM7jupc",
      "include_colab_link": true
    },
    "kernelspec": {
      "name": "python3",
      "display_name": "Python 3"
    }
  },
  "cells": [
    {
      "cell_type": "markdown",
      "metadata": {
        "id": "view-in-github",
        "colab_type": "text"
      },
      "source": [
        "<a href=\"https://colab.research.google.com/github/napjon/fastai-course-v3/blob/master/nbs/collabs/fastai_lesson4_collab.ipynb\" target=\"_parent\"><img src=\"https://colab.research.google.com/assets/colab-badge.svg\" alt=\"Open In Colab\"/></a>"
      ]
    },
    {
      "cell_type": "code",
      "metadata": {
        "id": "11tar1Uxd0X3",
        "colab_type": "code",
        "colab": {}
      },
      "source": [
        "from fastai.collab import *\n",
        "from fastai.tabular import *"
      ],
      "execution_count": 0,
      "outputs": []
    },
    {
      "cell_type": "code",
      "metadata": {
        "id": "OA-apyiXeO7i",
        "colab_type": "code",
        "colab": {}
      },
      "source": [
        ""
      ],
      "execution_count": 0,
      "outputs": []
    },
    {
      "cell_type": "markdown",
      "metadata": {
        "id": "NLgKPstueQEa",
        "colab_type": "text"
      },
      "source": [
        "# Collabortive Learning Example"
      ]
    },
    {
      "cell_type": "code",
      "metadata": {
        "id": "0zEUgCJueS3E",
        "colab_type": "code",
        "colab": {}
      },
      "source": [
        "user, item, title = \"userId\", \"movieId\", \"title\""
      ],
      "execution_count": 0,
      "outputs": []
    },
    {
      "cell_type": "code",
      "metadata": {
        "id": "Gq7TObu1eXi8",
        "colab_type": "code",
        "colab": {
          "base_uri": "https://localhost:8080/",
          "height": 34
        },
        "outputId": "500091a9-93ef-4878-d1f4-967bff7dfb5b"
      },
      "source": [
        "path = untar_data(URLs.ML_SAMPLE)"
      ],
      "execution_count": 3,
      "outputs": [
        {
          "output_type": "stream",
          "text": [
            "Downloading http://files.fast.ai/data/examples/movie_lens_sample\n"
          ],
          "name": "stdout"
        },
        {
          "output_type": "display_data",
          "data": {
            "text/html": [
              ""
            ],
            "text/plain": [
              "<IPython.core.display.HTML object>"
            ]
          },
          "metadata": {
            "tags": []
          }
        }
      ]
    },
    {
      "cell_type": "code",
      "metadata": {
        "id": "u4aMFlmeeaoD",
        "colab_type": "code",
        "colab": {
          "base_uri": "https://localhost:8080/",
          "height": 204
        },
        "outputId": "d541e913-0f91-43f2-fffa-fe9d100796f3"
      },
      "source": [
        "ratings = pd.read_csv(path/\"ratings.csv\")\n",
        "ratings.head()"
      ],
      "execution_count": 6,
      "outputs": [
        {
          "output_type": "execute_result",
          "data": {
            "text/html": [
              "<div>\n",
              "<style scoped>\n",
              "    .dataframe tbody tr th:only-of-type {\n",
              "        vertical-align: middle;\n",
              "    }\n",
              "\n",
              "    .dataframe tbody tr th {\n",
              "        vertical-align: top;\n",
              "    }\n",
              "\n",
              "    .dataframe thead th {\n",
              "        text-align: right;\n",
              "    }\n",
              "</style>\n",
              "<table border=\"1\" class=\"dataframe\">\n",
              "  <thead>\n",
              "    <tr style=\"text-align: right;\">\n",
              "      <th></th>\n",
              "      <th>userId</th>\n",
              "      <th>movieId</th>\n",
              "      <th>rating</th>\n",
              "      <th>timestamp</th>\n",
              "    </tr>\n",
              "  </thead>\n",
              "  <tbody>\n",
              "    <tr>\n",
              "      <th>0</th>\n",
              "      <td>73</td>\n",
              "      <td>1097</td>\n",
              "      <td>4.0</td>\n",
              "      <td>1255504951</td>\n",
              "    </tr>\n",
              "    <tr>\n",
              "      <th>1</th>\n",
              "      <td>561</td>\n",
              "      <td>924</td>\n",
              "      <td>3.5</td>\n",
              "      <td>1172695223</td>\n",
              "    </tr>\n",
              "    <tr>\n",
              "      <th>2</th>\n",
              "      <td>157</td>\n",
              "      <td>260</td>\n",
              "      <td>3.5</td>\n",
              "      <td>1291598691</td>\n",
              "    </tr>\n",
              "    <tr>\n",
              "      <th>3</th>\n",
              "      <td>358</td>\n",
              "      <td>1210</td>\n",
              "      <td>5.0</td>\n",
              "      <td>957481884</td>\n",
              "    </tr>\n",
              "    <tr>\n",
              "      <th>4</th>\n",
              "      <td>130</td>\n",
              "      <td>316</td>\n",
              "      <td>2.0</td>\n",
              "      <td>1138999234</td>\n",
              "    </tr>\n",
              "  </tbody>\n",
              "</table>\n",
              "</div>"
            ],
            "text/plain": [
              "   userId  movieId  rating   timestamp\n",
              "0      73     1097     4.0  1255504951\n",
              "1     561      924     3.5  1172695223\n",
              "2     157      260     3.5  1291598691\n",
              "3     358     1210     5.0   957481884\n",
              "4     130      316     2.0  1138999234"
            ]
          },
          "metadata": {
            "tags": []
          },
          "execution_count": 6
        }
      ]
    },
    {
      "cell_type": "code",
      "metadata": {
        "id": "bvRnIrHcekGC",
        "colab_type": "code",
        "colab": {}
      },
      "source": [
        "data = CollabDataBunch.from_df(ratings, seed=42)"
      ],
      "execution_count": 0,
      "outputs": []
    },
    {
      "cell_type": "code",
      "metadata": {
        "id": "VGcgLUdEexGl",
        "colab_type": "code",
        "colab": {}
      },
      "source": [
        "y_range = [0, 5.5]"
      ],
      "execution_count": 0,
      "outputs": []
    },
    {
      "cell_type": "code",
      "metadata": {
        "id": "DFw9kWDDeyuo",
        "colab_type": "code",
        "colab": {}
      },
      "source": [
        "learn = collab_learner(data, n_factors=50, y_range=y_range)"
      ],
      "execution_count": 0,
      "outputs": []
    },
    {
      "cell_type": "code",
      "metadata": {
        "id": "fmKxb7VMe2sw",
        "colab_type": "code",
        "colab": {
          "base_uri": "https://localhost:8080/",
          "height": 142
        },
        "outputId": "9fca2f97-69de-4555-9385-e3fd674366d1"
      },
      "source": [
        "learn.fit_one_cycle(3, 5e-3)"
      ],
      "execution_count": 10,
      "outputs": [
        {
          "output_type": "display_data",
          "data": {
            "text/html": [
              "<table border=\"1\" class=\"dataframe\">\n",
              "  <thead>\n",
              "    <tr style=\"text-align: left;\">\n",
              "      <th>epoch</th>\n",
              "      <th>train_loss</th>\n",
              "      <th>valid_loss</th>\n",
              "      <th>time</th>\n",
              "    </tr>\n",
              "  </thead>\n",
              "  <tbody>\n",
              "    <tr>\n",
              "      <td>0</td>\n",
              "      <td>1.598555</td>\n",
              "      <td>0.934259</td>\n",
              "      <td>00:00</td>\n",
              "    </tr>\n",
              "    <tr>\n",
              "      <td>1</td>\n",
              "      <td>0.858787</td>\n",
              "      <td>0.680848</td>\n",
              "      <td>00:00</td>\n",
              "    </tr>\n",
              "    <tr>\n",
              "      <td>2</td>\n",
              "      <td>0.650719</td>\n",
              "      <td>0.673309</td>\n",
              "      <td>00:00</td>\n",
              "    </tr>\n",
              "  </tbody>\n",
              "</table>"
            ],
            "text/plain": [
              "<IPython.core.display.HTML object>"
            ]
          },
          "metadata": {
            "tags": []
          }
        }
      ]
    },
    {
      "cell_type": "code",
      "metadata": {
        "id": "ApF4kQGqe6-_",
        "colab_type": "code",
        "colab": {}
      },
      "source": [
        ""
      ],
      "execution_count": 0,
      "outputs": []
    },
    {
      "cell_type": "markdown",
      "metadata": {
        "id": "C2TRZlzwe_tN",
        "colab_type": "text"
      },
      "source": [
        "#Movie Lens 100k\n",
        "Let's try with the full Movielens 100k dataset"
      ]
    },
    {
      "cell_type": "code",
      "metadata": {
        "id": "FO-n9x2ZfGVl",
        "colab_type": "code",
        "colab": {}
      },
      "source": [
        "path = Config.data_path()/\"ml-100k\""
      ],
      "execution_count": 0,
      "outputs": []
    },
    {
      "cell_type": "code",
      "metadata": {
        "id": "TzgoMRyWf2VC",
        "colab_type": "code",
        "colab": {}
      },
      "source": [
        "ratings = pd.read_csv(path/\"u.data\", delimiter='\\t', header=None, names=[user, item, \"rating\", \"timestamp\"])"
      ],
      "execution_count": 0,
      "outputs": []
    },
    {
      "cell_type": "code",
      "metadata": {
        "id": "0yQTmEOWgAFt",
        "colab_type": "code",
        "colab": {}
      },
      "source": [
        "movies = pd.read_csv(path/\"u.item\", delimiter=\"|\", encoding=\"latin-1\", header=None, \n",
        "                     names=[item, \"title\", \"date\", \"N\", \"url\", *[f'g{i}' for i in range(19)]])"
      ],
      "execution_count": 0,
      "outputs": []
    },
    {
      "cell_type": "code",
      "metadata": {
        "id": "7XzTKv4NgTiX",
        "colab_type": "code",
        "colab": {
          "base_uri": "https://localhost:8080/",
          "height": 374
        },
        "outputId": "90d7bbf9-0c62-4834-ecaf-dac0045beb03"
      },
      "source": [
        "movies.head()"
      ],
      "execution_count": 27,
      "outputs": [
        {
          "output_type": "execute_result",
          "data": {
            "text/html": [
              "<div>\n",
              "<style scoped>\n",
              "    .dataframe tbody tr th:only-of-type {\n",
              "        vertical-align: middle;\n",
              "    }\n",
              "\n",
              "    .dataframe tbody tr th {\n",
              "        vertical-align: top;\n",
              "    }\n",
              "\n",
              "    .dataframe thead th {\n",
              "        text-align: right;\n",
              "    }\n",
              "</style>\n",
              "<table border=\"1\" class=\"dataframe\">\n",
              "  <thead>\n",
              "    <tr style=\"text-align: right;\">\n",
              "      <th></th>\n",
              "      <th>movieId</th>\n",
              "      <th>title</th>\n",
              "      <th>date</th>\n",
              "      <th>N</th>\n",
              "      <th>url</th>\n",
              "      <th>g0</th>\n",
              "      <th>g1</th>\n",
              "      <th>g2</th>\n",
              "      <th>g3</th>\n",
              "      <th>g4</th>\n",
              "      <th>g5</th>\n",
              "      <th>g6</th>\n",
              "      <th>g7</th>\n",
              "      <th>g8</th>\n",
              "      <th>g9</th>\n",
              "      <th>g10</th>\n",
              "      <th>g11</th>\n",
              "      <th>g12</th>\n",
              "      <th>g13</th>\n",
              "      <th>g14</th>\n",
              "      <th>g15</th>\n",
              "      <th>g16</th>\n",
              "      <th>g17</th>\n",
              "      <th>g18</th>\n",
              "    </tr>\n",
              "  </thead>\n",
              "  <tbody>\n",
              "    <tr>\n",
              "      <th>0</th>\n",
              "      <td>1</td>\n",
              "      <td>Toy Story (1995)</td>\n",
              "      <td>01-Jan-1995</td>\n",
              "      <td>NaN</td>\n",
              "      <td>http://us.imdb.com/M/title-exact?Toy%20Story%2...</td>\n",
              "      <td>0</td>\n",
              "      <td>0</td>\n",
              "      <td>0</td>\n",
              "      <td>1</td>\n",
              "      <td>1</td>\n",
              "      <td>1</td>\n",
              "      <td>0</td>\n",
              "      <td>0</td>\n",
              "      <td>0</td>\n",
              "      <td>0</td>\n",
              "      <td>0</td>\n",
              "      <td>0</td>\n",
              "      <td>0</td>\n",
              "      <td>0</td>\n",
              "      <td>0</td>\n",
              "      <td>0</td>\n",
              "      <td>0</td>\n",
              "      <td>0</td>\n",
              "      <td>0</td>\n",
              "    </tr>\n",
              "    <tr>\n",
              "      <th>1</th>\n",
              "      <td>2</td>\n",
              "      <td>GoldenEye (1995)</td>\n",
              "      <td>01-Jan-1995</td>\n",
              "      <td>NaN</td>\n",
              "      <td>http://us.imdb.com/M/title-exact?GoldenEye%20(...</td>\n",
              "      <td>0</td>\n",
              "      <td>1</td>\n",
              "      <td>1</td>\n",
              "      <td>0</td>\n",
              "      <td>0</td>\n",
              "      <td>0</td>\n",
              "      <td>0</td>\n",
              "      <td>0</td>\n",
              "      <td>0</td>\n",
              "      <td>0</td>\n",
              "      <td>0</td>\n",
              "      <td>0</td>\n",
              "      <td>0</td>\n",
              "      <td>0</td>\n",
              "      <td>0</td>\n",
              "      <td>0</td>\n",
              "      <td>1</td>\n",
              "      <td>0</td>\n",
              "      <td>0</td>\n",
              "    </tr>\n",
              "    <tr>\n",
              "      <th>2</th>\n",
              "      <td>3</td>\n",
              "      <td>Four Rooms (1995)</td>\n",
              "      <td>01-Jan-1995</td>\n",
              "      <td>NaN</td>\n",
              "      <td>http://us.imdb.com/M/title-exact?Four%20Rooms%...</td>\n",
              "      <td>0</td>\n",
              "      <td>0</td>\n",
              "      <td>0</td>\n",
              "      <td>0</td>\n",
              "      <td>0</td>\n",
              "      <td>0</td>\n",
              "      <td>0</td>\n",
              "      <td>0</td>\n",
              "      <td>0</td>\n",
              "      <td>0</td>\n",
              "      <td>0</td>\n",
              "      <td>0</td>\n",
              "      <td>0</td>\n",
              "      <td>0</td>\n",
              "      <td>0</td>\n",
              "      <td>0</td>\n",
              "      <td>1</td>\n",
              "      <td>0</td>\n",
              "      <td>0</td>\n",
              "    </tr>\n",
              "    <tr>\n",
              "      <th>3</th>\n",
              "      <td>4</td>\n",
              "      <td>Get Shorty (1995)</td>\n",
              "      <td>01-Jan-1995</td>\n",
              "      <td>NaN</td>\n",
              "      <td>http://us.imdb.com/M/title-exact?Get%20Shorty%...</td>\n",
              "      <td>0</td>\n",
              "      <td>1</td>\n",
              "      <td>0</td>\n",
              "      <td>0</td>\n",
              "      <td>0</td>\n",
              "      <td>1</td>\n",
              "      <td>0</td>\n",
              "      <td>0</td>\n",
              "      <td>1</td>\n",
              "      <td>0</td>\n",
              "      <td>0</td>\n",
              "      <td>0</td>\n",
              "      <td>0</td>\n",
              "      <td>0</td>\n",
              "      <td>0</td>\n",
              "      <td>0</td>\n",
              "      <td>0</td>\n",
              "      <td>0</td>\n",
              "      <td>0</td>\n",
              "    </tr>\n",
              "    <tr>\n",
              "      <th>4</th>\n",
              "      <td>5</td>\n",
              "      <td>Copycat (1995)</td>\n",
              "      <td>01-Jan-1995</td>\n",
              "      <td>NaN</td>\n",
              "      <td>http://us.imdb.com/M/title-exact?Copycat%20(1995)</td>\n",
              "      <td>0</td>\n",
              "      <td>0</td>\n",
              "      <td>0</td>\n",
              "      <td>0</td>\n",
              "      <td>0</td>\n",
              "      <td>0</td>\n",
              "      <td>1</td>\n",
              "      <td>0</td>\n",
              "      <td>1</td>\n",
              "      <td>0</td>\n",
              "      <td>0</td>\n",
              "      <td>0</td>\n",
              "      <td>0</td>\n",
              "      <td>0</td>\n",
              "      <td>0</td>\n",
              "      <td>0</td>\n",
              "      <td>1</td>\n",
              "      <td>0</td>\n",
              "      <td>0</td>\n",
              "    </tr>\n",
              "  </tbody>\n",
              "</table>\n",
              "</div>"
            ],
            "text/plain": [
              "   movieId              title         date   N  ... g15  g16  g17  g18\n",
              "0        1   Toy Story (1995)  01-Jan-1995 NaN  ...   0    0    0    0\n",
              "1        2   GoldenEye (1995)  01-Jan-1995 NaN  ...   0    1    0    0\n",
              "2        3  Four Rooms (1995)  01-Jan-1995 NaN  ...   0    1    0    0\n",
              "3        4  Get Shorty (1995)  01-Jan-1995 NaN  ...   0    0    0    0\n",
              "4        5     Copycat (1995)  01-Jan-1995 NaN  ...   0    1    0    0\n",
              "\n",
              "[5 rows x 24 columns]"
            ]
          },
          "metadata": {
            "tags": []
          },
          "execution_count": 27
        }
      ]
    },
    {
      "cell_type": "code",
      "metadata": {
        "id": "Hvk2W5dVgWDE",
        "colab_type": "code",
        "colab": {
          "base_uri": "https://localhost:8080/",
          "height": 34
        },
        "outputId": "b7e8ebe2-0882-4f08-828c-87cc162f8268"
      },
      "source": [
        "ratings.shape"
      ],
      "execution_count": 28,
      "outputs": [
        {
          "output_type": "execute_result",
          "data": {
            "text/plain": [
              "(100000, 4)"
            ]
          },
          "metadata": {
            "tags": []
          },
          "execution_count": 28
        }
      ]
    },
    {
      "cell_type": "code",
      "metadata": {
        "id": "xwuiw70cgZFK",
        "colab_type": "code",
        "colab": {
          "base_uri": "https://localhost:8080/",
          "height": 204
        },
        "outputId": "10961d1b-29dc-4182-9507-e6c1f5536aa5"
      },
      "source": [
        "ratings_movie = ratings.merge(movies[[item, title]])\n",
        "ratings_movie.head()"
      ],
      "execution_count": 29,
      "outputs": [
        {
          "output_type": "execute_result",
          "data": {
            "text/html": [
              "<div>\n",
              "<style scoped>\n",
              "    .dataframe tbody tr th:only-of-type {\n",
              "        vertical-align: middle;\n",
              "    }\n",
              "\n",
              "    .dataframe tbody tr th {\n",
              "        vertical-align: top;\n",
              "    }\n",
              "\n",
              "    .dataframe thead th {\n",
              "        text-align: right;\n",
              "    }\n",
              "</style>\n",
              "<table border=\"1\" class=\"dataframe\">\n",
              "  <thead>\n",
              "    <tr style=\"text-align: right;\">\n",
              "      <th></th>\n",
              "      <th>userId</th>\n",
              "      <th>movieId</th>\n",
              "      <th>rating</th>\n",
              "      <th>timestamp</th>\n",
              "      <th>title</th>\n",
              "    </tr>\n",
              "  </thead>\n",
              "  <tbody>\n",
              "    <tr>\n",
              "      <th>0</th>\n",
              "      <td>196</td>\n",
              "      <td>242</td>\n",
              "      <td>3</td>\n",
              "      <td>881250949</td>\n",
              "      <td>Kolya (1996)</td>\n",
              "    </tr>\n",
              "    <tr>\n",
              "      <th>1</th>\n",
              "      <td>63</td>\n",
              "      <td>242</td>\n",
              "      <td>3</td>\n",
              "      <td>875747190</td>\n",
              "      <td>Kolya (1996)</td>\n",
              "    </tr>\n",
              "    <tr>\n",
              "      <th>2</th>\n",
              "      <td>226</td>\n",
              "      <td>242</td>\n",
              "      <td>5</td>\n",
              "      <td>883888671</td>\n",
              "      <td>Kolya (1996)</td>\n",
              "    </tr>\n",
              "    <tr>\n",
              "      <th>3</th>\n",
              "      <td>154</td>\n",
              "      <td>242</td>\n",
              "      <td>3</td>\n",
              "      <td>879138235</td>\n",
              "      <td>Kolya (1996)</td>\n",
              "    </tr>\n",
              "    <tr>\n",
              "      <th>4</th>\n",
              "      <td>306</td>\n",
              "      <td>242</td>\n",
              "      <td>5</td>\n",
              "      <td>876503793</td>\n",
              "      <td>Kolya (1996)</td>\n",
              "    </tr>\n",
              "  </tbody>\n",
              "</table>\n",
              "</div>"
            ],
            "text/plain": [
              "   userId  movieId  rating  timestamp         title\n",
              "0     196      242       3  881250949  Kolya (1996)\n",
              "1      63      242       3  875747190  Kolya (1996)\n",
              "2     226      242       5  883888671  Kolya (1996)\n",
              "3     154      242       3  879138235  Kolya (1996)\n",
              "4     306      242       5  876503793  Kolya (1996)"
            ]
          },
          "metadata": {
            "tags": []
          },
          "execution_count": 29
        }
      ]
    },
    {
      "cell_type": "code",
      "metadata": {
        "id": "D40wBTXFgnpq",
        "colab_type": "code",
        "colab": {}
      },
      "source": [
        "# By default, Collabdatabunch.from_df takes first three columns as default Id for [user, movie, rating]\n",
        "# We specify 4th column to depict product name (In this case movie title)\n",
        "# Then set validation set 10% of the data\n",
        "data = CollabDataBunch.from_df(ratings_movie, seed=42, valid_pct=0.1, item_name=\"title\")"
      ],
      "execution_count": 0,
      "outputs": []
    },
    {
      "cell_type": "code",
      "metadata": {
        "id": "4zpy0wnVg_PH",
        "colab_type": "code",
        "colab": {
          "base_uri": "https://localhost:8080/",
          "height": 204
        },
        "outputId": "ff00b0e6-8dd8-4220-c5c8-5682a7cda06c"
      },
      "source": [
        "data.show_batch()"
      ],
      "execution_count": 32,
      "outputs": [
        {
          "output_type": "display_data",
          "data": {
            "text/html": [
              "<table border=\"1\" class=\"dataframe\">\n",
              "  <thead>\n",
              "    <tr style=\"text-align: right;\">\n",
              "      <th>userId</th>\n",
              "      <th>title</th>\n",
              "      <th>target</th>\n",
              "    </tr>\n",
              "  </thead>\n",
              "  <tbody>\n",
              "    <tr>\n",
              "      <td>66</td>\n",
              "      <td>Rumble in the Bronx (1995)</td>\n",
              "      <td>3.0</td>\n",
              "    </tr>\n",
              "    <tr>\n",
              "      <td>21</td>\n",
              "      <td>She's So Lovely (1997)</td>\n",
              "      <td>4.0</td>\n",
              "    </tr>\n",
              "    <tr>\n",
              "      <td>406</td>\n",
              "      <td>Piano, The (1993)</td>\n",
              "      <td>4.0</td>\n",
              "    </tr>\n",
              "    <tr>\n",
              "      <td>321</td>\n",
              "      <td>Postino, Il (1994)</td>\n",
              "      <td>3.0</td>\n",
              "    </tr>\n",
              "    <tr>\n",
              "      <td>13</td>\n",
              "      <td>Thinner (1996)</td>\n",
              "      <td>1.0</td>\n",
              "    </tr>\n",
              "  </tbody>\n",
              "</table>"
            ],
            "text/plain": [
              "<IPython.core.display.HTML object>"
            ]
          },
          "metadata": {
            "tags": []
          }
        }
      ]
    },
    {
      "cell_type": "code",
      "metadata": {
        "id": "L22FaovAhCh-",
        "colab_type": "code",
        "colab": {}
      },
      "source": [
        ""
      ],
      "execution_count": 0,
      "outputs": []
    },
    {
      "cell_type": "markdown",
      "metadata": {
        "id": "cpwLRkkFhhsT",
        "colab_type": "text"
      },
      "source": [
        "Since \"5\" is max in typical movie ratings, and there's no way for deep learning model to achieve absolute confidence (1.0 = 5.0), we need to make the predictive output range a little bigger than it supposed to. "
      ]
    },
    {
      "cell_type": "code",
      "metadata": {
        "id": "UK3Knl7phuda",
        "colab_type": "code",
        "colab": {}
      },
      "source": [
        "y_range = [0, 5.5]"
      ],
      "execution_count": 0,
      "outputs": []
    },
    {
      "cell_type": "markdown",
      "metadata": {
        "id": "RSvm2qE7jRNX",
        "colab_type": "text"
      },
      "source": [
        "Next, we create the `learner` model. We use 40 latent factors, with weight decay of 0.1"
      ]
    },
    {
      "cell_type": "code",
      "metadata": {
        "id": "OqZ6MdIvhxGB",
        "colab_type": "code",
        "colab": {}
      },
      "source": [
        "learn = collab_learner(data, n_factors=40, y_range=y_range, wd=1e-1)"
      ],
      "execution_count": 0,
      "outputs": []
    },
    {
      "cell_type": "code",
      "metadata": {
        "id": "vmIwyMr3jvsA",
        "colab_type": "code",
        "colab": {
          "base_uri": "https://localhost:8080/",
          "height": 374
        },
        "outputId": "58d5ebcb-0937-4e1d-c05f-45cc038d2cdf"
      },
      "source": [
        "learn.lr_find()\n",
        "learn.recorder.plot(skip_end=15)"
      ],
      "execution_count": 37,
      "outputs": [
        {
          "output_type": "display_data",
          "data": {
            "text/html": [
              "\n",
              "    <div>\n",
              "        <style>\n",
              "            /* Turns off some styling */\n",
              "            progress {\n",
              "                /* gets rid of default border in Firefox and Opera. */\n",
              "                border: none;\n",
              "                /* Needs to be in here for Safari polyfill so background images work as expected. */\n",
              "                background-size: auto;\n",
              "            }\n",
              "            .progress-bar-interrupted, .progress-bar-interrupted::-webkit-progress-bar {\n",
              "                background: #F44336;\n",
              "            }\n",
              "        </style>\n",
              "      <progress value='0' class='' max='1', style='width:300px; height:20px; vertical-align: middle;'></progress>\n",
              "      0.00% [0/1 00:00<00:00]\n",
              "    </div>\n",
              "    \n",
              "<table border=\"1\" class=\"dataframe\">\n",
              "  <thead>\n",
              "    <tr style=\"text-align: left;\">\n",
              "      <th>epoch</th>\n",
              "      <th>train_loss</th>\n",
              "      <th>valid_loss</th>\n",
              "      <th>time</th>\n",
              "    </tr>\n",
              "  </thead>\n",
              "  <tbody>\n",
              "  </tbody>\n",
              "</table><p>\n",
              "\n",
              "    <div>\n",
              "        <style>\n",
              "            /* Turns off some styling */\n",
              "            progress {\n",
              "                /* gets rid of default border in Firefox and Opera. */\n",
              "                border: none;\n",
              "                /* Needs to be in here for Safari polyfill so background images work as expected. */\n",
              "                background-size: auto;\n",
              "            }\n",
              "            .progress-bar-interrupted, .progress-bar-interrupted::-webkit-progress-bar {\n",
              "                background: #F44336;\n",
              "            }\n",
              "        </style>\n",
              "      <progress value='75' class='' max='1406', style='width:300px; height:20px; vertical-align: middle;'></progress>\n",
              "      5.33% [75/1406 00:00<00:10 1.8288]\n",
              "    </div>\n",
              "    "
            ],
            "text/plain": [
              "<IPython.core.display.HTML object>"
            ]
          },
          "metadata": {
            "tags": []
          }
        },
        {
          "output_type": "stream",
          "text": [
            "LR Finder is complete, type {learner_name}.recorder.plot() to see the graph.\n"
          ],
          "name": "stdout"
        },
        {
          "output_type": "display_data",
          "data": {
            "image/png": "[encoded data removed]",
            "text/plain": [
              "<Figure size 432x288 with 1 Axes>"
            ]
          },
          "metadata": {
            "tags": []
          }
        }
      ]
    },
    {
      "cell_type": "markdown",
      "metadata": {
        "id": "sFIiKA7ekH1O",
        "colab_type": "text"
      },
      "source": [
        "Since we know that the steepest fall in this curve is somewhere around 5e-2, by Jeremy Howard's best practive we move 0.1 back from it, which will result in 5e-3"
      ]
    },
    {
      "cell_type": "code",
      "metadata": {
        "id": "GAODgXSmkabc",
        "colab_type": "code",
        "colab": {
          "base_uri": "https://localhost:8080/",
          "height": 204
        },
        "outputId": "6ac793ac-67d4-4840-be2e-967bacb7dd3f"
      },
      "source": [
        "learn.fit_one_cycle(5, 5e-3)"
      ],
      "execution_count": 38,
      "outputs": [
        {
          "output_type": "display_data",
          "data": {
            "text/html": [
              "<table border=\"1\" class=\"dataframe\">\n",
              "  <thead>\n",
              "    <tr style=\"text-align: left;\">\n",
              "      <th>epoch</th>\n",
              "      <th>train_loss</th>\n",
              "      <th>valid_loss</th>\n",
              "      <th>time</th>\n",
              "    </tr>\n",
              "  </thead>\n",
              "  <tbody>\n",
              "    <tr>\n",
              "      <td>0</td>\n",
              "      <td>0.946474</td>\n",
              "      <td>0.959127</td>\n",
              "      <td>00:10</td>\n",
              "    </tr>\n",
              "    <tr>\n",
              "      <td>1</td>\n",
              "      <td>0.866463</td>\n",
              "      <td>0.885076</td>\n",
              "      <td>00:10</td>\n",
              "    </tr>\n",
              "    <tr>\n",
              "      <td>2</td>\n",
              "      <td>0.764759</td>\n",
              "      <td>0.836304</td>\n",
              "      <td>00:10</td>\n",
              "    </tr>\n",
              "    <tr>\n",
              "      <td>3</td>\n",
              "      <td>0.667330</td>\n",
              "      <td>0.811135</td>\n",
              "      <td>00:10</td>\n",
              "    </tr>\n",
              "    <tr>\n",
              "      <td>4</td>\n",
              "      <td>0.561879</td>\n",
              "      <td>0.811289</td>\n",
              "      <td>00:09</td>\n",
              "    </tr>\n",
              "  </tbody>\n",
              "</table>"
            ],
            "text/plain": [
              "<IPython.core.display.HTML object>"
            ]
          },
          "metadata": {
            "tags": []
          }
        }
      ]
    },
    {
      "cell_type": "code",
      "metadata": {
        "id": "FY6tvdndkdFx",
        "colab_type": "code",
        "colab": {}
      },
      "source": [
        "learn.save('dotprod')"
      ],
      "execution_count": 0,
      "outputs": []
    },
    {
      "cell_type": "markdown",
      "metadata": {
        "id": "f2xD-28Ok2ff",
        "colab_type": "text"
      },
      "source": [
        "With this kind of accuracy, we have achieve best results that beat the current champion by the time this was written in [this benchmark](https://www.librec.net/release/v1.3/example.html).\n",
        "\n",
        "The RMSE of the champion is 0.91, which convert back to MSE to 0.83. We are doing better with lose 0.811"
      ]
    },
    {
      "cell_type": "code",
      "metadata": {
        "id": "0Jf9KmWslAvQ",
        "colab_type": "code",
        "colab": {
          "base_uri": "https://localhost:8080/",
          "height": 496
        },
        "outputId": "1292ff4f-ade1-4cf2-e18e-e65d55c44125"
      },
      "source": [
        "learn.load('dotprod')"
      ],
      "execution_count": 40,
      "outputs": [
        {
          "output_type": "execute_result",
          "data": {
            "text/plain": [
              "CollabLearner(data=TabularDataBunch;\n",
              "\n",
              "Train: LabelList (90000 items)\n",
              "x: CollabList\n",
              "userId 196; title Kolya (1996); ,userId 63; title Kolya (1996); ,userId 226; title Kolya (1996); ,userId 154; title Kolya (1996); ,userId 306; title Kolya (1996); \n",
              "y: FloatList\n",
              "3.0,3.0,5.0,3.0,5.0\n",
              "Path: .;\n",
              "\n",
              "Valid: LabelList (10000 items)\n",
              "x: CollabList\n",
              "userId 498; title Casino (1995); ,userId 642; title Pocahontas (1995); ,userId 58; title 2001: A Space Odyssey (1968); ,userId 495; title Cat People (1982); ,userId 618; title Philadelphia (1993); \n",
              "y: FloatList\n",
              "3.0,5.0,4.0,3.0,3.0\n",
              "Path: .;\n",
              "\n",
              "Test: None, model=EmbeddingDotBias(\n",
              "  (u_weight): Embedding(944, 40)\n",
              "  (i_weight): Embedding(1654, 40)\n",
              "  (u_bias): Embedding(944, 1)\n",
              "  (i_bias): Embedding(1654, 1)\n",
              "), opt_func=functools.partial(<class 'torch.optim.adam.Adam'>, betas=(0.9, 0.99)), loss_func=FlattenedLoss of MSELoss(), metrics=[], true_wd=True, bn_wd=True, wd=0.1, train_bn=True, path=PosixPath('.'), model_dir='models', callback_fns=[functools.partial(<class 'fastai.basic_train.Recorder'>, add_time=True, silent=False)], callbacks=[], layer_groups=[Sequential(\n",
              "  (0): Embedding(944, 40)\n",
              "  (1): Embedding(1654, 40)\n",
              "  (2): Embedding(944, 1)\n",
              "  (3): Embedding(1654, 1)\n",
              ")], add_time=True, silent=False)"
            ]
          },
          "metadata": {
            "tags": []
          },
          "execution_count": 40
        }
      ]
    },
    {
      "cell_type": "code",
      "metadata": {
        "id": "RNCwSHAZlAak",
        "colab_type": "code",
        "colab": {
          "base_uri": "https://localhost:8080/",
          "height": 119
        },
        "outputId": "f6a37a02-7077-4dcb-a01f-2e88cd50750c"
      },
      "source": [
        "learn.model"
      ],
      "execution_count": 41,
      "outputs": [
        {
          "output_type": "execute_result",
          "data": {
            "text/plain": [
              "EmbeddingDotBias(\n",
              "  (u_weight): Embedding(944, 40)\n",
              "  (i_weight): Embedding(1654, 40)\n",
              "  (u_bias): Embedding(944, 1)\n",
              "  (i_bias): Embedding(1654, 1)\n",
              ")"
            ]
          },
          "metadata": {
            "tags": []
          },
          "execution_count": 41
        }
      ]
    },
    {
      "cell_type": "markdown",
      "metadata": {
        "id": "Gp--FcR1oeW1",
        "colab_type": "text"
      },
      "source": [
        "Next, we can also a bias to count for the movie popularity"
      ]
    },
    {
      "cell_type": "code",
      "metadata": {
        "id": "YLUOHQQJlcWw",
        "colab_type": "code",
        "colab": {
          "base_uri": "https://localhost:8080/",
          "height": 204
        },
        "outputId": "2084e3dd-c29f-45b1-b2e2-dc8cc8f955b2"
      },
      "source": [
        "top_movies = ratings_movie.title.value_counts()[:1000]\n",
        "top_movies[:10]"
      ],
      "execution_count": 53,
      "outputs": [
        {
          "output_type": "execute_result",
          "data": {
            "text/plain": [
              "Star Wars (1977)                 583\n",
              "Contact (1997)                   509\n",
              "Fargo (1996)                     508\n",
              "Return of the Jedi (1983)        507\n",
              "Liar Liar (1997)                 485\n",
              "English Patient, The (1996)      481\n",
              "Scream (1996)                    478\n",
              "Toy Story (1995)                 452\n",
              "Air Force One (1997)             431\n",
              "Independence Day (ID4) (1996)    429\n",
              "Name: title, dtype: int64"
            ]
          },
          "metadata": {
            "tags": []
          },
          "execution_count": 53
        }
      ]
    },
    {
      "cell_type": "code",
      "metadata": {
        "id": "owVdff62l0SE",
        "colab_type": "code",
        "colab": {
          "base_uri": "https://localhost:8080/",
          "height": 34
        },
        "outputId": "04b32228-97b0-43b8-946b-7f05badee24b"
      },
      "source": [
        "movie_bias = learn.bias(top_movies.index, is_item=True)\n",
        "movie_bias.shape"
      ],
      "execution_count": 54,
      "outputs": [
        {
          "output_type": "execute_result",
          "data": {
            "text/plain": [
              "torch.Size([1000])"
            ]
          },
          "metadata": {
            "tags": []
          },
          "execution_count": 54
        }
      ]
    },
    {
      "cell_type": "code",
      "metadata": {
        "id": "q2OA7tvsl687",
        "colab_type": "code",
        "colab": {}
      },
      "source": [
        "mean_ratings = ratings_movie.groupby(title)['rating'].mean()\n",
        "movie_ratings = [(b, i, mean_ratings.loc[i]) for i,b in zip(top_movies.index, movie_bias)]"
      ],
      "execution_count": 0,
      "outputs": []
    },
    {
      "cell_type": "markdown",
      "metadata": {
        "id": "GzdcF_ndokbA",
        "colab_type": "text"
      },
      "source": [
        "Worst 10 Movies"
      ]
    },
    {
      "cell_type": "code",
      "metadata": {
        "id": "A62n-UqooFhH",
        "colab_type": "code",
        "colab": {
          "base_uri": "https://localhost:8080/",
          "height": 170
        },
        "outputId": "cc1093d9-042b-44b5-c84b-de6dc52838b8"
      },
      "source": [
        "sorted(movie_ratings, key=lambda x: x[0])[:5]"
      ],
      "execution_count": 58,
      "outputs": [
        {
          "output_type": "execute_result",
          "data": {
            "text/plain": [
              "[(tensor(-0.3627),\n",
              "  'Children of the Corn: The Gathering (1996)',\n",
              "  1.3157894736842106),\n",
              " (tensor(-0.3132),\n",
              "  'Lawnmower Man 2: Beyond Cyberspace (1996)',\n",
              "  1.7142857142857142),\n",
              " (tensor(-0.2727), 'Mortal Kombat: Annihilation (1997)', 1.9534883720930232),\n",
              " (tensor(-0.2619), 'Island of Dr. Moreau, The (1996)', 2.1578947368421053),\n",
              " (tensor(-0.2541), 'Cable Guy, The (1996)', 2.339622641509434)]"
            ]
          },
          "metadata": {
            "tags": []
          },
          "execution_count": 58
        }
      ]
    },
    {
      "cell_type": "markdown",
      "metadata": {
        "id": "QNAjmrYCol2K",
        "colab_type": "text"
      },
      "source": [
        "Top 10 Movies"
      ]
    },
    {
      "cell_type": "code",
      "metadata": {
        "id": "wvIHdxNPoSn0",
        "colab_type": "code",
        "colab": {
          "base_uri": "https://localhost:8080/",
          "height": 102
        },
        "outputId": "858e3c2b-b28b-4cd6-e51e-f67e601d8a57"
      },
      "source": [
        "sorted(movie_ratings, key=lambda x: x[0], reverse=True)[:5]"
      ],
      "execution_count": 59,
      "outputs": [
        {
          "output_type": "execute_result",
          "data": {
            "text/plain": [
              "[(tensor(0.6093), 'Titanic (1997)', 4.2457142857142856),\n",
              " (tensor(0.6068), \"Schindler's List (1993)\", 4.466442953020135),\n",
              " (tensor(0.5722), 'Shawshank Redemption, The (1994)', 4.445229681978798),\n",
              " (tensor(0.5540), 'Star Wars (1977)', 4.3584905660377355),\n",
              " (tensor(0.5401), 'L.A. Confidential (1997)', 4.161616161616162)]"
            ]
          },
          "metadata": {
            "tags": []
          },
          "execution_count": 59
        }
      ]
    },
    {
      "cell_type": "code",
      "metadata": {
        "id": "a_S-9YFuoU_j",
        "colab_type": "code",
        "colab": {}
      },
      "source": [
        ""
      ],
      "execution_count": 0,
      "outputs": []
    },
    {
      "cell_type": "markdown",
      "metadata": {
        "id": "b2Vjf1QdoYUW",
        "colab_type": "text"
      },
      "source": [
        "We can also explore the linear algebra space interpretation that is embedded in the model, Here we use PCA to make summary of 3 dimension space out of our 40 latent factors. "
      ]
    },
    {
      "cell_type": "code",
      "metadata": {
        "id": "sYIodY4wo1FH",
        "colab_type": "code",
        "colab": {
          "base_uri": "https://localhost:8080/",
          "height": 34
        },
        "outputId": "165e1f09-17d5-4f96-83ef-691f2c4ffb29"
      },
      "source": [
        "movie_w = learn.weight(top_movies.index, is_item=True)\n",
        "movie_w.shape"
      ],
      "execution_count": 60,
      "outputs": [
        {
          "output_type": "execute_result",
          "data": {
            "text/plain": [
              "torch.Size([1000, 40])"
            ]
          },
          "metadata": {
            "tags": []
          },
          "execution_count": 60
        }
      ]
    },
    {
      "cell_type": "code",
      "metadata": {
        "id": "6IhPBKOmo7F_",
        "colab_type": "code",
        "colab": {
          "base_uri": "https://localhost:8080/",
          "height": 34
        },
        "outputId": "4842d84b-2b85-49ee-a33e-e717db6b3b8e"
      },
      "source": [
        "movie_pca = movie_w.pca(3)\n",
        "movie_pca.shape"
      ],
      "execution_count": 61,
      "outputs": [
        {
          "output_type": "execute_result",
          "data": {
            "text/plain": [
              "torch.Size([1000, 3])"
            ]
          },
          "metadata": {
            "tags": []
          },
          "execution_count": 61
        }
      ]
    },
    {
      "cell_type": "code",
      "metadata": {
        "id": "LGA-JzpUo-Sm",
        "colab_type": "code",
        "colab": {}
      },
      "source": [
        "fac0, fac1, fac2 = movie_pca.t()\n",
        "movie_comp = [(f, i) for f,i in zip(fac0, top_movies.index)]"
      ],
      "execution_count": 0,
      "outputs": []
    },
    {
      "cell_type": "code",
      "metadata": {
        "id": "h9BDFw65pMK5",
        "colab_type": "code",
        "colab": {
          "base_uri": "https://localhost:8080/",
          "height": 883
        },
        "outputId": "502ab2a1-7d82-45db-a757-a9cc4c4a6f91"
      },
      "source": [
        "idxs = np.random.choice(len(top_movies.index), 50, replace=False)\n",
        "X = fac0[idxs]\n",
        "Y = fac2[idxs]\n",
        "\n",
        "plt.figure(figsize=(15,15))\n",
        "plt.scatter(X, Y)\n",
        "for i, x, y in zip(top_movies[idxs].index, X, Y):\n",
        "  plt.text(x, y, i, color=np.random.rand(3) * 0.7, fontsize=11)\n",
        "\n",
        "plt.show()"
      ],
      "execution_count": 67,
      "outputs": [
        {
          "output_type": "display_data",
          "data": {
            "image/png": "[encoded data removed]",
            "text/plain": [
              "<Figure size 1080x1080 with 1 Axes>"
            ]
          },
          "metadata": {
            "tags": []
          }
        }
      ]
    },
    {
      "cell_type": "markdown",
      "metadata": {
        "id": "5l_clVTiqE-a",
        "colab_type": "text"
      },
      "source": [
        "Here we can see that movies that are in term of categories are similar to each other are in the closer neighborhood, while those who are very different categories will be placed very far apart. "
      ]
    }
  ]
}